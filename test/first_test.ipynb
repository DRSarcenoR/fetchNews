{
 "cells": [
  {
   "cell_type": "code",
   "execution_count": 1,
   "metadata": {},
   "outputs": [],
   "source": [
    "from shiny import App, ui, render\n",
    "import pandas as pd\n",
    "import matplotlib.pyplot as plt\n",
    "from io import BytesIO\n",
    "import base64\n",
    "\n",
    "# Crear la interfaz de usuario\n",
    "app_ui = ui.page_fluid(\n",
    "    ui.h2(\"Aplicación Shiny en Python\"),\n",
    "    ui.input_file(\"file\", \"Cargar archivo CSV\", accept=\".csv\"),\n",
    "    ui.output_table(\"tabla\"),\n",
    "    ui.output_plot(\"grafico\")\n",
    ")\n",
    "\n",
    "# Lógica del servidor\n",
    "def server(input, output, session):\n",
    "    @output\n",
    "    @render.table\n",
    "    def tabla():\n",
    "        file = input.file()\n",
    "        if file is None:\n",
    "            return None\n",
    "        # Leer el CSV cargado\n",
    "        df = pd.read_csv(file[\"datapath\"])\n",
    "        return df.head()\n",
    "\n",
    "    @output\n",
    "    @render.plot\n",
    "    def grafico():\n",
    "        file = input.file()\n",
    "        if file is None:\n",
    "            return None\n",
    "        # Leer el CSV y graficar\n",
    "        df = pd.read_csv(file[\"datapath\"])\n",
    "        plt.figure(figsize=(8, 4))\n",
    "        plt.plot(df[df.columns[0]], df[df.columns[1]], label=\"Datos\")\n",
    "        plt.xlabel(\"X\")\n",
    "        plt.ylabel(\"Y\")\n",
    "        plt.legend()\n",
    "        plt.tight_layout()\n",
    "        return plt\n",
    "\n",
    "# Crear la aplicación\n",
    "app = App(app_ui, server)\n"
   ]
  },
  {
   "cell_type": "code",
   "execution_count": null,
   "metadata": {},
   "outputs": [],
   "source": []
  }
 ],
 "metadata": {
  "kernelspec": {
   "display_name": "shinyscrap",
   "language": "python",
   "name": "python3"
  },
  "language_info": {
   "codemirror_mode": {
    "name": "ipython",
    "version": 3
   },
   "file_extension": ".py",
   "mimetype": "text/x-python",
   "name": "python",
   "nbconvert_exporter": "python",
   "pygments_lexer": "ipython3",
   "version": "3.9.20"
  }
 },
 "nbformat": 4,
 "nbformat_minor": 2
}
