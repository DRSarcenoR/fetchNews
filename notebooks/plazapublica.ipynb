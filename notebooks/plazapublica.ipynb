{
 "cells": [
  {
   "cell_type": "code",
   "execution_count": 49,
   "metadata": {},
   "outputs": [],
   "source": [
    "import pandas as pd\n",
    "import time\n",
    "import random\n",
    "import json\n",
    "from datetime import datetime\n",
    "from pytz import timezone\n",
    "\n",
    "# scrapping\n",
    "from selenium import webdriver\n",
    "from selenium.webdriver.chrome.service import Service\n",
    "from selenium.webdriver.common.by import By\n",
    "from selenium.webdriver.common.keys import Keys\n",
    "from selenium.webdriver.support.ui import Select\n",
    "from selenium.webdriver.support.ui import WebDriverWait\n",
    "from selenium.webdriver.support import expected_conditions as EC\n",
    "from bs4 import BeautifulSoup\n",
    "import bs4\n",
    "import requests\n",
    "from requests.exceptions import RequestException\n",
    "\n",
    "\n",
    "\n",
    "from CHN.general import Scrapping\n",
    "\n",
    "\n",
    "import warnings\n",
    "warnings.filterwarnings('ignore')"
   ]
  },
  {
   "cell_type": "code",
   "execution_count": 50,
   "metadata": {},
   "outputs": [],
   "source": [
    "scrap = Scrapping()"
   ]
  },
  {
   "cell_type": "code",
   "execution_count": 51,
   "metadata": {},
   "outputs": [],
   "source": [
    "# ubicacion de chrome driver y la url que queremos utilizar\n",
    "PATH_TO_DRIVER = 'C:/chromedriver-win32/chromedriver-win32/chromedriver.exe'\n",
    "url = 'https://www.plazapublica.com.gt/'"
   ]
  },
  {
   "cell_type": "code",
   "execution_count": 52,
   "metadata": {},
   "outputs": [],
   "source": [
    "# creamos el objeto service\n",
    "service = Service(PATH_TO_DRIVER)\n",
    "\n",
    "# se inicializa el navegador con el servicio\n",
    "driver = webdriver.Chrome(service=service)"
   ]
  },
  {
   "cell_type": "code",
   "execution_count": 53,
   "metadata": {},
   "outputs": [
    {
     "data": {
      "text/plain": [
       "<selenium.webdriver.support.wait.WebDriverWait (session=\"8b62b4d5e1a4fb59206b7a465722b7d1\")>"
      ]
     },
     "execution_count": 53,
     "metadata": {},
     "output_type": "execute_result"
    }
   ],
   "source": [
    "driver.get(url)\n",
    "\n",
    "WebDriverWait(driver, 10)"
   ]
  },
  {
   "cell_type": "code",
   "execution_count": 54,
   "metadata": {},
   "outputs": [],
   "source": [
    "try:\n",
    "    buscar_icono = driver.find_element(By.CSS_SELECTOR, '.top-buscar a')\n",
    "    buscar_icono.click()\n",
    "    time.sleep(3)\n",
    "except:\n",
    "    print('No fue necesario hacer click')"
   ]
  },
  {
   "cell_type": "code",
   "execution_count": 55,
   "metadata": {},
   "outputs": [],
   "source": [
    "# Localizar el campo de búsqueda dentro de Google Custom Search\n",
    "search_box = driver.find_element(By.CSS_SELECTOR, \"input.gsc-input\")\n",
    "\n",
    "# Escribir el término de búsqueda y presionar Enter\n",
    "search_box.send_keys(\"bernardo arevalo\")\n",
    "search_box.send_keys(Keys.RETURN)"
   ]
  },
  {
   "cell_type": "code",
   "execution_count": 56,
   "metadata": {},
   "outputs": [
    {
     "name": "stdout",
     "output_type": "stream",
     "text": [
      "<class 'str'>\n"
     ]
    }
   ],
   "source": [
    "time.sleep(5)\n",
    "\n",
    "# extraemos el html actual\n",
    "html_actual = driver.page_source\n",
    "\n",
    "print(type(html_actual))\n",
    "\n",
    "driver.quit()"
   ]
  },
  {
   "cell_type": "code",
   "execution_count": 57,
   "metadata": {},
   "outputs": [],
   "source": [
    "soup = BeautifulSoup(html_actual, 'html.parser')\n",
    "\n",
    "with open('../data/plazapublica/busqueda_selenium_v2.html', 'w') as home:\n",
    "    home.write(soup.prettify())"
   ]
  },
  {
   "cell_type": "code",
   "execution_count": 58,
   "metadata": {},
   "outputs": [],
   "source": [
    "def extraer_articulos(soup : bs4.BeautifulSoup) -> dict:\n",
    "    title_tag = soup.select_one('.gs-title a')\n",
    "    url_tag = title_tag['href'] if title_tag else None\n",
    "    title = title_tag.get_text(strip=True) if title_tag else None\n",
    "\n",
    "    snippet_tag = soup.select_one('.gs-snippet')\n",
    "    snippet = snippet_tag.get_text(strip=True) if snippet_tag else None\n",
    "\n",
    "    source_tag = soup.select_one('.gs-visibleUrl-short')\n",
    "    source = source_tag.get_text(strip=True) if source_tag else None\n",
    "\n",
    "    return {\n",
    "        \"title\": title,\n",
    "        \"url\": url_tag,\n",
    "        \"snippet\": snippet,\n",
    "        \"source\": source\n",
    "    }\n"
   ]
  },
  {
   "cell_type": "code",
   "execution_count": 59,
   "metadata": {},
   "outputs": [],
   "source": [
    "articles = [extraer_articulos(article) for article in soup.select('div.gsc-webResult')]"
   ]
  },
  {
   "cell_type": "code",
   "execution_count": 60,
   "metadata": {},
   "outputs": [],
   "source": [
    "with open('../data/plazapublica/export_bernardo_v2.json', 'w', encoding='utf-8') as ex:\n",
    "    json.dump({\"plaza publica\": [{\"page\": 1, \"articulos\": articles}]}, ex, ensure_ascii=False, indent=4)"
   ]
  },
  {
   "cell_type": "code",
   "execution_count": null,
   "metadata": {},
   "outputs": [],
   "source": []
  }
 ],
 "metadata": {
  "kernelspec": {
   "display_name": "presentacion",
   "language": "python",
   "name": "python3"
  },
  "language_info": {
   "codemirror_mode": {
    "name": "ipython",
    "version": 3
   },
   "file_extension": ".py",
   "mimetype": "text/x-python",
   "name": "python",
   "nbconvert_exporter": "python",
   "pygments_lexer": "ipython3",
   "version": "3.13.0"
  }
 },
 "nbformat": 4,
 "nbformat_minor": 2
}
