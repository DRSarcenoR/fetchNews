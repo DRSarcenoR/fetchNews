{
 "cells": [
  {
   "cell_type": "code",
   "execution_count": 1,
   "metadata": {},
   "outputs": [],
   "source": [
    "import pandas as pd\n",
    "import time\n",
    "import random\n",
    "import json\n",
    "from datetime import datetime\n",
    "from pytz import timezone\n",
    "\n",
    "# scrapping\n",
    "from selenium import webdriver\n",
    "from selenium.webdriver.chrome.service import Service\n",
    "from selenium.webdriver.common.by import By\n",
    "from selenium.webdriver.support.ui import Select\n",
    "from selenium.webdriver.support.ui import WebDriverWait\n",
    "from selenium.webdriver.support import expected_conditions as EC\n",
    "from bs4 import BeautifulSoup\n",
    "import bs4\n",
    "import requests\n",
    "from requests.exceptions import RequestException\n",
    "\n",
    "\n",
    "\n",
    "from CHN.general import Scrapping\n",
    "\n",
    "\n",
    "import warnings\n",
    "warnings.filterwarnings('ignore')"
   ]
  },
  {
   "cell_type": "code",
   "execution_count": 2,
   "metadata": {},
   "outputs": [],
   "source": [
    "scrap = Scrapping()"
   ]
  },
  {
   "cell_type": "code",
   "execution_count": 3,
   "metadata": {},
   "outputs": [],
   "source": [
    "url = 'https://voxpopuliguate.com/'\n",
    "busqueda = '?s='"
   ]
  },
  {
   "cell_type": "code",
   "execution_count": 4,
   "metadata": {},
   "outputs": [],
   "source": [
    "nombre = 'bernardo arevalo'\n",
    "name = '+'.join(nombre.split())"
   ]
  },
  {
   "cell_type": "code",
   "execution_count": 5,
   "metadata": {},
   "outputs": [],
   "source": [
    "response = scrap.genRequest(url + busqueda + name)"
   ]
  },
  {
   "cell_type": "code",
   "execution_count": 6,
   "metadata": {},
   "outputs": [
    {
     "data": {
      "text/plain": [
       "200"
      ]
     },
     "execution_count": 6,
     "metadata": {},
     "output_type": "execute_result"
    }
   ],
   "source": [
    "response.status_code"
   ]
  },
  {
   "cell_type": "code",
   "execution_count": 7,
   "metadata": {},
   "outputs": [],
   "source": [
    "soup = BeautifulSoup(response.content, 'html.parser')"
   ]
  },
  {
   "cell_type": "code",
   "execution_count": 8,
   "metadata": {},
   "outputs": [],
   "source": [
    "with open('../data/voxpopuli/search_test_bernardo.html', 'w') as search:\n",
    "    search.write(soup.prettify())"
   ]
  },
  {
   "cell_type": "markdown",
   "metadata": {},
   "source": [
    "### extraemos la info de los articulos"
   ]
  },
  {
   "cell_type": "code",
   "execution_count": 9,
   "metadata": {},
   "outputs": [],
   "source": [
    "def extraer_info_articulo(soup: BeautifulSoup) -> dict:\n",
    "    link_tag = soup.find(\"a\", class_=\"image-link\")\n",
    "    link = link_tag[\"href\"] if link_tag else None\n",
    "    title_tag = soup.find(\"h2\", class_=\"is-title post-title\")\n",
    "    title = title_tag.get_text(strip=True) if title_tag else None\n",
    "    \n",
    "    fecha_entrada_tag = soup.find(\"time\", class_=\"post-date\")\n",
    "    fecha_entrada = fecha_entrada_tag[\"datetime\"] if fecha_entrada_tag else None\n",
    "\n",
    "    \n",
    "    return {\n",
    "        \"titulo\": title,\n",
    "        \"link\": link,\n",
    "        \"fecha_entrada\": fecha_entrada.split('T')[0] if fecha_entrada else None\n",
    "    }"
   ]
  },
  {
   "cell_type": "code",
   "execution_count": 10,
   "metadata": {},
   "outputs": [],
   "source": [
    "articles = [extraer_info_articulo(article) for article in soup.select(\"div.loop article.l-post\")]"
   ]
  },
  {
   "cell_type": "code",
   "execution_count": 11,
   "metadata": {},
   "outputs": [
    {
     "data": {
      "text/plain": [
       "[{'titulo': None,\n",
       "  'link': 'https://voxpopuliguate.com/de-reprimir-protestas-a-jefe-de-seguridad-del-congreso/',\n",
       "  'fecha_entrada': '2025-01-29'},\n",
       " {'titulo': None,\n",
       "  'link': 'https://voxpopuliguate.com/el-misterioso-blindado-que-usa-el-presidente-del-congreso/',\n",
       "  'fecha_entrada': '2025-01-27'},\n",
       " {'titulo': None,\n",
       "  'link': 'https://voxpopuliguate.com/archivo-viejo-la-zona-insalubre-y-olvidada-del-hospital-san-juan-de-dios/',\n",
       "  'fecha_entrada': '2025-01-21'},\n",
       " {'titulo': 'Contraloría denuncia a funcionarios por compra irregular de pasaportes, pero protege a otros implicados',\n",
       "  'link': 'https://voxpopuliguate.com/contraloria-denuncia-a-funcionarios-por-compra-irregulares-de-pasaportes-pero-protege-a-otros-implicados/',\n",
       "  'fecha_entrada': '2024-11-15'},\n",
       " {'titulo': 'La ruta del millonario negocio de los pasaportes',\n",
       "  'link': 'https://voxpopuliguate.com/la-ruta-del-millonario-negocio-de-los-pasaportes/',\n",
       "  'fecha_entrada': '2024-11-07'},\n",
       " {'titulo': 'Hermana de Miguel Martínez vive en casa vinculada a la estructura de la narcotraficante Marllory Chacón',\n",
       "  'link': 'https://voxpopuliguate.com/hermana-de-miguel-martinez-vive-en-casa-vinculada-a-la-estructura-de-la-narcotraficante-marllory-chacon/',\n",
       "  'fecha_entrada': '2024-09-13'},\n",
       " {'titulo': 'La mansión de Claudia Martínez, hermana de Miguel Martínez',\n",
       "  'link': 'https://voxpopuliguate.com/la-mansion-de-claudia-martinez-hermana-de-miguel-martinez/',\n",
       "  'fecha_entrada': '2024-09-12'},\n",
       " {'titulo': 'El misterioso blindado que usa el presidente del Congreso',\n",
       "  'link': 'https://voxpopuliguate.com/el-misterioso-blindado-que-usa-el-presidente-del-congreso/',\n",
       "  'fecha_entrada': '2025-01-27'},\n",
       " {'titulo': 'Hermanos Mansilla Ghinatti: de dirigir campaña de Sandra Torres a crear falsos medios',\n",
       "  'link': 'https://voxpopuliguate.com/hermanos-mansilla-ghinatti-de-dirigir-campana-de-sandra-torres-a-crear-falsos-medios/',\n",
       "  'fecha_entrada': '2025-01-16'},\n",
       " {'titulo': 'Área 14, una empresa que fabrica falsos medios de comunicación',\n",
       "  'link': 'https://voxpopuliguate.com/area-14-una-empresa-que-fabrica-falsos-medios-de-comunicacion/',\n",
       "  'fecha_entrada': '2025-01-13'},\n",
       " {'titulo': 'Los voceros oficiosos del Gobierno',\n",
       "  'link': 'https://voxpopuliguate.com/los-voceros-oficiosos-del-gobierno/',\n",
       "  'fecha_entrada': '2024-10-15'},\n",
       " {'titulo': 'Horas antes de terminar el gobierno de Giammattei se aprobó la licencia de explotación de níquel a la empresa del hijo de la narcotraficante Marllory Chacón',\n",
       "  'link': 'https://voxpopuliguate.com/horas-antes-terminar-el-gobierno-de-giammattei-se-aprobo-la-licencia-de-explotacion-de-niquel-a-la-empresa-del-hijo-de-la-narcotraficante-marllory-chacon/',\n",
       "  'fecha_entrada': '2024-05-23'},\n",
       " {'titulo': 'San Juan La Noria: la comunidad rodeada por la palma de aceite',\n",
       "  'link': 'https://voxpopuliguate.com/san-juan-la-noria-la-comunidad-rodeada-por-la-palma-de-aceite/',\n",
       "  'fecha_entrada': '2021-07-08'},\n",
       " {'titulo': 'El conflictivo avance de la palma aceitera en Guatemala',\n",
       "  'link': 'https://voxpopuliguate.com/el-conflictivo-avance-de-la-palma-aceitera-en-guatemala/',\n",
       "  'fecha_entrada': '2021-02-10'},\n",
       " {'titulo': 'El poder de los Valdés Paiz junto a Jairo Ponce “cuto” y sus vínculos con Giammattei',\n",
       "  'link': 'https://voxpopuliguate.com/el-poder-de-los-valdes-paiz-junto-a-jairo-ponce-cuto-y-sus-vinculos-con-giammattei/',\n",
       "  'fecha_entrada': '2022-07-01'},\n",
       " {'titulo': 'Cervecería Chapultepec: El nuevo negocio de Miguel Martínez y sus amigos',\n",
       "  'link': 'https://voxpopuliguate.com/cerveceria-chapultepec-el-nuevo-negocio-de-miguel-martinez-y-sus-amigos/',\n",
       "  'fecha_entrada': '2022-05-12'},\n",
       " {'titulo': 'Fundabiem maquilla las cifras de la Teletón 2022',\n",
       "  'link': 'https://voxpopuliguate.com/fundabiem-maquilla-las-cifras-de-la-teleton-2022/',\n",
       "  'fecha_entrada': '2022-04-20'},\n",
       " {'titulo': 'Juan Carlos Eggenberger, el rostro detrás de la Teletón',\n",
       "  'link': 'https://voxpopuliguate.com/juan-carlos-eggenberger-el-rostro-detras-de-la-teleton/',\n",
       "  'fecha_entrada': '2022-04-01'},\n",
       " {'titulo': 'El misterioso blindado que usa el presidente del Congreso',\n",
       "  'link': 'https://voxpopuliguate.com/el-misterioso-blindado-que-usa-el-presidente-del-congreso/',\n",
       "  'fecha_entrada': '2025-01-27'},\n",
       " {'titulo': 'Hermanos Mansilla Ghinatti: de dirigir campaña de Sandra Torres a crear falsos medios',\n",
       "  'link': 'https://voxpopuliguate.com/hermanos-mansilla-ghinatti-de-dirigir-campana-de-sandra-torres-a-crear-falsos-medios/',\n",
       "  'fecha_entrada': '2025-01-16'},\n",
       " {'titulo': 'Área 14, una empresa que fabrica falsos medios de comunicación',\n",
       "  'link': 'https://voxpopuliguate.com/area-14-una-empresa-que-fabrica-falsos-medios-de-comunicacion/',\n",
       "  'fecha_entrada': '2025-01-13'},\n",
       " {'titulo': 'Contraloría denuncia a funcionarios por compra irregular de pasaportes, pero protege a otros implicados',\n",
       "  'link': 'https://voxpopuliguate.com/contraloria-denuncia-a-funcionarios-por-compra-irregulares-de-pasaportes-pero-protege-a-otros-implicados/',\n",
       "  'fecha_entrada': '2024-11-15'},\n",
       " {'titulo': 'De reprimir protestas a jefe de seguridad del Congreso',\n",
       "  'link': 'https://voxpopuliguate.com/de-reprimir-protestas-a-jefe-de-seguridad-del-congreso/',\n",
       "  'fecha_entrada': '2025-01-29'},\n",
       " {'titulo': 'Bernardo Arévalo y Karin Herrera estrenarán camionetas blindadas valoradas en Q1.3 millones cada una',\n",
       "  'link': 'https://voxpopuliguate.com/bernado-arevalo-y-karin-herrera-estrenaran-camionetas-blindadas-valoradas-en-q1-3-millones-cada-una/',\n",
       "  'fecha_entrada': '2024-12-12'},\n",
       " {'titulo': 'Migración cancela contrato millonario de pasaportes con Formularios Standard',\n",
       "  'link': 'https://voxpopuliguate.com/migracion-cancela-contrato-millonario-de-pasaportes-con-formularios-standard/',\n",
       "  'fecha_entrada': '2024-12-04'},\n",
       " {'titulo': 'Subdirector de migración responsabiliza a junta licitadora por compra de pasaportes',\n",
       "  'link': 'https://voxpopuliguate.com/subdirector-de-migracion-responsabiliza-a-junta-licitadora-por-compra-de-pasaportes/',\n",
       "  'fecha_entrada': '2024-11-21'},\n",
       " {'titulo': 'Allan Álvarez: “El mayor enemigo dentro de la pandemia es el miedo y la desinformación”',\n",
       "  'link': 'https://voxpopuliguate.com/allan-alvarez-el-mayor-enemigo-dentro-de-la-pandemia-es-el-miedo-y-la-desinformacion/',\n",
       "  'fecha_entrada': '2020-06-04'},\n",
       " {'titulo': 'Aníbal García: “Estoy preparado para cambiar el país”',\n",
       "  'link': 'https://voxpopuliguate.com/anibal-garcia-estoy-preparado-para-cambiar-el-pais/',\n",
       "  'fecha_entrada': '2019-06-15'},\n",
       " {'titulo': 'Benito Morales: “Nuestros ejes fundamentales son generación de empleo, salud y educación”',\n",
       "  'link': 'https://voxpopuliguate.com/benito-morales-nuestros-ejes-fundamentales-son-generacion-de-empleo-salud-y-educacion/',\n",
       "  'fecha_entrada': '2019-06-14'},\n",
       " {'titulo': 'Danilo Roca: “Yo no quiero ser interventor de Guatemala, quiero ser el presidente ”',\n",
       "  'link': 'https://voxpopuliguate.com/danilo-roca-yo-no-quiero-ser-interventor-de-guatemala-quiero-ser-el-presidente/',\n",
       "  'fecha_entrada': '2019-06-14'},\n",
       " {'titulo': 'De reprimir protestas a jefe de seguridad del Congreso',\n",
       "  'link': 'https://voxpopuliguate.com/de-reprimir-protestas-a-jefe-de-seguridad-del-congreso/',\n",
       "  'fecha_entrada': '2025-01-29'},\n",
       " {'titulo': 'Bernardo Arévalo y Karin Herrera estrenarán camionetas blindadas valoradas en Q1.3 millones cada una',\n",
       "  'link': 'https://voxpopuliguate.com/bernado-arevalo-y-karin-herrera-estrenaran-camionetas-blindadas-valoradas-en-q1-3-millones-cada-una/',\n",
       "  'fecha_entrada': '2024-12-12'},\n",
       " {'titulo': 'Migración cancela contrato millonario de pasaportes con Formularios Standard',\n",
       "  'link': 'https://voxpopuliguate.com/migracion-cancela-contrato-millonario-de-pasaportes-con-formularios-standard/',\n",
       "  'fecha_entrada': '2024-12-04'},\n",
       " {'titulo': 'Subdirector de migración responsabiliza a junta licitadora por compra de pasaportes',\n",
       "  'link': 'https://voxpopuliguate.com/subdirector-de-migracion-responsabiliza-a-junta-licitadora-por-compra-de-pasaportes/',\n",
       "  'fecha_entrada': '2024-11-21'},\n",
       " {'titulo': 'Cinco años y mirando hacia el horizonte',\n",
       "  'link': 'https://voxpopuliguate.com/cinco-anos-y-mirando-hacia-el-horizonte/',\n",
       "  'fecha_entrada': '2024-08-11'},\n",
       " {'titulo': 'Reiteramos nuestro compromiso periodístico',\n",
       "  'link': 'https://voxpopuliguate.com/reiteramos-nuestro-compromiso-periodistico/',\n",
       "  'fecha_entrada': '2023-01-04'},\n",
       " {'titulo': 'Un paso más en el periodismo independiente',\n",
       "  'link': 'https://voxpopuliguate.com/un-paso-mas-en-el-periodismo-independiente/',\n",
       "  'fecha_entrada': '2022-03-16'},\n",
       " {'titulo': 'Vox Populi: periodismo molesto frente al crimen organizado, el autoritarismo y el arrodillamiento',\n",
       "  'link': 'https://voxpopuliguate.com/vox-populi-periodismo-molesto-frente-al-crimen-organizado-el-autoritarismo-y-el-arrodillamiento/',\n",
       "  'fecha_entrada': '2024-08-11'},\n",
       " {'titulo': 'Reflexiones sobre el futuro de los medios en Guatemala',\n",
       "  'link': 'https://voxpopuliguate.com/reflexiones-sobre-el-futuro-de-los-medios-en-guatemala/',\n",
       "  'fecha_entrada': '2024-08-11'},\n",
       " {'titulo': 'El periodismo de investigación, pilar de la democracia en Guatemala',\n",
       "  'link': 'https://voxpopuliguate.com/el-periodismo-de-investigacion-pilar-de-la-democracia-en-guatemala/',\n",
       "  'fecha_entrada': '2024-08-11'},\n",
       " {'titulo': 'Al servicio de la verdad',\n",
       "  'link': 'https://voxpopuliguate.com/al-servicio-de-la-verdad/',\n",
       "  'fecha_entrada': '2024-08-11'},\n",
       " {'titulo': 'Cinco años y mirando hacia el horizonte',\n",
       "  'link': 'https://voxpopuliguate.com/cinco-anos-y-mirando-hacia-el-horizonte/',\n",
       "  'fecha_entrada': '2024-08-11'},\n",
       " {'titulo': 'Vox Populi: periodismo molesto frente al crimen organizado, el autoritarismo y el arrodillamiento',\n",
       "  'link': 'https://voxpopuliguate.com/vox-populi-periodismo-molesto-frente-al-crimen-organizado-el-autoritarismo-y-el-arrodillamiento/',\n",
       "  'fecha_entrada': '2024-08-11'},\n",
       " {'titulo': 'Reflexiones sobre el futuro de los medios en Guatemala',\n",
       "  'link': 'https://voxpopuliguate.com/reflexiones-sobre-el-futuro-de-los-medios-en-guatemala/',\n",
       "  'fecha_entrada': '2024-08-11'},\n",
       " {'titulo': 'El periodismo de investigación, pilar de la democracia en Guatemala',\n",
       "  'link': 'https://voxpopuliguate.com/el-periodismo-de-investigacion-pilar-de-la-democracia-en-guatemala/',\n",
       "  'fecha_entrada': '2024-08-11'},\n",
       " {'titulo': 'Archivo viejo: la zona insalubre y olvidada del Hospital San Juan de Dios',\n",
       "  'link': 'https://voxpopuliguate.com/archivo-viejo-la-zona-insalubre-y-olvidada-del-hospital-san-juan-de-dios/',\n",
       "  'fecha_entrada': '2025-01-21'},\n",
       " {'titulo': 'Miles de personas exigen renuncia de la fiscal general y que se respeten elecciones',\n",
       "  'link': 'https://voxpopuliguate.com/miles-de-personas-exigen-renuncia-de-la-fiscal-general-y-que-se-respeten-elecciones/',\n",
       "  'fecha_entrada': '2023-07-15'},\n",
       " {'titulo': 'Fiscales y policías se cubren el rostro en los  allanamientos en el Registro de Ciudadanos',\n",
       "  'link': 'https://voxpopuliguate.com/fiscales-y-policias-se-cubren-el-rostro-en-los-allanamientos-en-el-registro-de-ciudadanos/',\n",
       "  'fecha_entrada': '2023-07-15'},\n",
       " {'titulo': 'La semana del odio y religión',\n",
       "  'link': 'https://voxpopuliguate.com/la-semana-del-odio-y-religion/',\n",
       "  'fecha_entrada': '2022-03-25'},\n",
       " {'titulo': 'De un brochazo: de buses rojos a transurbanos',\n",
       "  'link': 'https://voxpopuliguate.com/de-un-brochazo-de-buses-rojos-a-transurbanos/',\n",
       "  'fecha_entrada': '2022-03-17'},\n",
       " {'titulo': 'Bernardo Arévalo y Karin Herrera estrenarán camionetas blindadas valoradas en Q1.3 millones cada una',\n",
       "  'link': 'https://voxpopuliguate.com/bernado-arevalo-y-karin-herrera-estrenaran-camionetas-blindadas-valoradas-en-q1-3-millones-cada-una/',\n",
       "  'fecha_entrada': None},\n",
       " {'titulo': 'Bernardo Arévalo se reúne en secreto con Leyla Lemus mientras mantiene al padre de su hija como presidente de la CNEE, un personaje con vínculos cuestionables',\n",
       "  'link': 'https://voxpopuliguate.com/bernardo-arevalo-se-reune-en-secreto-con-leyla-lemus-mientras-mantiene-al-padre-de-su-hija-como-presidente-de-la-cnee-un-personaje-con-vinculos-cuestionables/',\n",
       "  'fecha_entrada': None},\n",
       " {'titulo': 'En plena «austeridad» la SAAS contrata por Q314 mil    a fotógrafo personal para Bernardo Arévalo',\n",
       "  'link': 'https://voxpopuliguate.com/en-plena-austeridad-la-saas-contrata-por-q314-mil-a-fotografo-personal-para-bernardo-arevalo/',\n",
       "  'fecha_entrada': None},\n",
       " {'titulo': 'TSE declara ganador a Bernardo Arévalo, pero suspende a Semilla',\n",
       "  'link': 'https://voxpopuliguate.com/tse-declara-ganador-a-bernardo-arevalo-pero-suspende-a-semilla/',\n",
       "  'fecha_entrada': None},\n",
       " {'titulo': 'El misterioso blindado que usa el presidente del Congreso',\n",
       "  'link': 'https://voxpopuliguate.com/el-misterioso-blindado-que-usa-el-presidente-del-congreso/',\n",
       "  'fecha_entrada': None},\n",
       " {'titulo': 'Migración cancela contrato millonario de pasaportes con Formularios Standard',\n",
       "  'link': 'https://voxpopuliguate.com/migracion-cancela-contrato-millonario-de-pasaportes-con-formularios-standard/',\n",
       "  'fecha_entrada': None},\n",
       " {'titulo': 'Subdirector de migración responsabiliza a junta licitadora por compra de pasaportes',\n",
       "  'link': 'https://voxpopuliguate.com/subdirector-de-migracion-responsabiliza-a-junta-licitadora-por-compra-de-pasaportes/',\n",
       "  'fecha_entrada': None},\n",
       " {'titulo': 'Organismo Ejecutivo se desentiende ante millonaria compra irregular de pasaportes',\n",
       "  'link': 'https://voxpopuliguate.com/organismo-ejecutivo-se-desentiende-ante-millonaria-compra-irregular-de-pasaportes/',\n",
       "  'fecha_entrada': None},\n",
       " {'titulo': 'Director del IGM compró pasaportes a pesar de advertencia de la CGC',\n",
       "  'link': 'https://voxpopuliguate.com/director-del-igm-compro-pasaportes-a-pesar-de-advertencia-de-la-cgc/',\n",
       "  'fecha_entrada': None},\n",
       " {'titulo': 'Contraloría denuncia a funcionarios por compra irregular de pasaportes, pero protege a otros implicados',\n",
       "  'link': 'https://voxpopuliguate.com/contraloria-denuncia-a-funcionarios-por-compra-irregulares-de-pasaportes-pero-protege-a-otros-implicados/',\n",
       "  'fecha_entrada': None},\n",
       " {'titulo': None,\n",
       "  'link': 'https://voxpopuliguate.com/de-reprimir-protestas-a-jefe-de-seguridad-del-congreso/',\n",
       "  'fecha_entrada': '2025-01-29'},\n",
       " {'titulo': None,\n",
       "  'link': 'https://voxpopuliguate.com/el-misterioso-blindado-que-usa-el-presidente-del-congreso/',\n",
       "  'fecha_entrada': '2025-01-27'},\n",
       " {'titulo': None,\n",
       "  'link': 'https://voxpopuliguate.com/archivo-viejo-la-zona-insalubre-y-olvidada-del-hospital-san-juan-de-dios/',\n",
       "  'fecha_entrada': '2025-01-21'},\n",
       " {'titulo': None,\n",
       "  'link': 'https://voxpopuliguate.com/hermanos-mansilla-ghinatti-de-dirigir-campana-de-sandra-torres-a-crear-falsos-medios/',\n",
       "  'fecha_entrada': '2025-01-16'}]"
      ]
     },
     "execution_count": 11,
     "metadata": {},
     "output_type": "execute_result"
    }
   ],
   "source": [
    "articles"
   ]
  },
  {
   "cell_type": "markdown",
   "metadata": {},
   "source": [
    "## paginas"
   ]
  },
  {
   "cell_type": "code",
   "execution_count": 12,
   "metadata": {},
   "outputs": [],
   "source": [
    "def obtener_max_pags(soup : bs4.BeautifulSoup) -> int:\n",
    "    paginas = soup.find_all('a', class_='page-numbers')\n",
    "\n",
    "    numeros_paginas = [int(element.text.strip()) for element in paginas if element.text.strip().isdigit()]\n",
    "\n",
    "    if numeros_paginas:\n",
    "        return max(numeros_paginas)\n",
    "    else:\n",
    "        return 1"
   ]
  },
  {
   "cell_type": "code",
   "execution_count": 13,
   "metadata": {},
   "outputs": [],
   "source": [
    "max_pages = obtener_max_pags(soup)"
   ]
  },
  {
   "cell_type": "code",
   "execution_count": 14,
   "metadata": {},
   "outputs": [
    {
     "name": "stdout",
     "output_type": "stream",
     "text": [
      "Inicio...\n",
      "Solicitando info pag 1\n",
      "Estado: 200\n",
      "Solicitando info pag 2\n",
      "Estado: 200\n",
      "Solicitando info pag 3\n",
      "Estado: 200\n"
     ]
    }
   ],
   "source": [
    "full = []\n",
    "print('Inicio...')\n",
    "for i in range(1, max_pages + 1):\n",
    "    # agregamos el número de página\n",
    "    page = f'page/{i}/'\n",
    "    print(f'Solicitando info pag {i}')\n",
    "    \n",
    "    try:\n",
    "        # headers\n",
    "        headers = {'User-Agent': 'Mozilla/5.0 (Windows NT 10.0; Win64; x64) AppleWebKit/537.36 (KHTML, like Gecko) Chrome/132.0.0.0 Safari/537.36'}\n",
    "        # solicitamos la información de la pag\n",
    "        response = scrap.genRequest(url + page + busqueda + name, headers=headers)\n",
    "        print(f'Estado: {response.status_code}')\n",
    "\n",
    "        # si se recibio respuesta correcta, parseamos\n",
    "        if response.status_code == 200:\n",
    "            soup = BeautifulSoup(response.content, 'html.parser')\n",
    "\n",
    "            # extraemos la información de los articulos\n",
    "            articles = [extraer_info_articulo(article) for article in soup.select(\"div.loop article.l-post\")]\n",
    "\n",
    "            # juntamos la data en formato json\n",
    "            data = {\"page\": i, \"articulos\": articles}\n",
    "            full.append(data)\n",
    "    except RequestException as e:\n",
    "        print(f'Error al procesar pagina {i}: {e}')\n",
    "        continue\n",
    "\n",
    "info = {'voxPopuli': full}\n",
    "with open(f\"../data/voxpopuli/resultados_1_{name}.json\", 'w', encoding='utf-8') as ai:\n",
    "    json.dump(info, ai, indent=4, ensure_ascii=False)"
   ]
  },
  {
   "cell_type": "code",
   "execution_count": null,
   "metadata": {},
   "outputs": [],
   "source": []
  }
 ],
 "metadata": {
  "kernelspec": {
   "display_name": "presentacion",
   "language": "python",
   "name": "python3"
  },
  "language_info": {
   "codemirror_mode": {
    "name": "ipython",
    "version": 3
   },
   "file_extension": ".py",
   "mimetype": "text/x-python",
   "name": "python",
   "nbconvert_exporter": "python",
   "pygments_lexer": "ipython3",
   "version": "3.13.0"
  }
 },
 "nbformat": 4,
 "nbformat_minor": 2
}
